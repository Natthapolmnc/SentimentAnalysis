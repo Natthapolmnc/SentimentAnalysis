{
  "nbformat": 4,
  "nbformat_minor": 0,
  "metadata": {
    "accelerator": "GPU",
    "colab": {
      "name": "SentimentAnalysis.ipynb",
      "provenance": [],
      "collapsed_sections": [],
      "toc_visible": true,
      "mount_file_id": "1vkZLJ6AphEq4MJ0OcoRfjnEyq2yNUte0",
      "authorship_tag": "ABX9TyPPqnMlXC8nGueXei72ADVO",
      "include_colab_link": true
    },
    "kernelspec": {
      "display_name": "Python 3",
      "name": "python3"
    },
    "widgets": {
      "application/vnd.jupyter.widget-state+json": {
        "4555759847aa4772ad9fee402acb2f42": {
          "model_module": "@jupyter-widgets/controls",
          "model_name": "HBoxModel",
          "state": {
            "_view_name": "HBoxView",
            "_dom_classes": [],
            "_model_name": "HBoxModel",
            "_view_module": "@jupyter-widgets/controls",
            "_model_module_version": "1.5.0",
            "_view_count": null,
            "_view_module_version": "1.5.0",
            "box_style": "",
            "layout": "IPY_MODEL_d335f20ce9fa4f4499955e11f5f71be3",
            "_model_module": "@jupyter-widgets/controls",
            "children": [
              "IPY_MODEL_5323102cfa95499395d3b62dea0a0715",
              "IPY_MODEL_d18252c1d0f84ef5a2fc68c6bf00b281"
            ]
          }
        },
        "d335f20ce9fa4f4499955e11f5f71be3": {
          "model_module": "@jupyter-widgets/base",
          "model_name": "LayoutModel",
          "state": {
            "_view_name": "LayoutView",
            "grid_template_rows": null,
            "right": null,
            "justify_content": null,
            "_view_module": "@jupyter-widgets/base",
            "overflow": null,
            "_model_module_version": "1.2.0",
            "_view_count": null,
            "flex_flow": null,
            "width": null,
            "min_width": null,
            "border": null,
            "align_items": null,
            "bottom": null,
            "_model_module": "@jupyter-widgets/base",
            "top": null,
            "grid_column": null,
            "overflow_y": null,
            "overflow_x": null,
            "grid_auto_flow": null,
            "grid_area": null,
            "grid_template_columns": null,
            "flex": null,
            "_model_name": "LayoutModel",
            "justify_items": null,
            "grid_row": null,
            "max_height": null,
            "align_content": null,
            "visibility": null,
            "align_self": null,
            "height": null,
            "min_height": null,
            "padding": null,
            "grid_auto_rows": null,
            "grid_gap": null,
            "max_width": null,
            "order": null,
            "_view_module_version": "1.2.0",
            "grid_template_areas": null,
            "object_position": null,
            "object_fit": null,
            "grid_auto_columns": null,
            "margin": null,
            "display": null,
            "left": null
          }
        },
        "5323102cfa95499395d3b62dea0a0715": {
          "model_module": "@jupyter-widgets/controls",
          "model_name": "FloatProgressModel",
          "state": {
            "_view_name": "ProgressView",
            "style": "IPY_MODEL_adf667854b1242be8c6f24aff01a1b6e",
            "_dom_classes": [],
            "description": "",
            "_model_name": "FloatProgressModel",
            "bar_style": "success",
            "max": 1,
            "_view_module": "@jupyter-widgets/controls",
            "_model_module_version": "1.5.0",
            "value": 1,
            "_view_count": null,
            "_view_module_version": "1.5.0",
            "orientation": "horizontal",
            "min": 0,
            "description_tooltip": null,
            "_model_module": "@jupyter-widgets/controls",
            "layout": "IPY_MODEL_a1c63c31e7494fe3a8b6f6da46bc8b74"
          }
        },
        "d18252c1d0f84ef5a2fc68c6bf00b281": {
          "model_module": "@jupyter-widgets/controls",
          "model_name": "HTMLModel",
          "state": {
            "_view_name": "HTMLView",
            "style": "IPY_MODEL_fdf3bd3380974375b8520ae66d4659ff",
            "_dom_classes": [],
            "description": "",
            "_model_name": "HTMLModel",
            "placeholder": "​",
            "_view_module": "@jupyter-widgets/controls",
            "_model_module_version": "1.5.0",
            "value": " 2196017/? [07:17&lt;00:00, 5016.88it/s]",
            "_view_count": null,
            "_view_module_version": "1.5.0",
            "description_tooltip": null,
            "_model_module": "@jupyter-widgets/controls",
            "layout": "IPY_MODEL_6e908cfb945642a6af46f88f450c4490"
          }
        },
        "adf667854b1242be8c6f24aff01a1b6e": {
          "model_module": "@jupyter-widgets/controls",
          "model_name": "ProgressStyleModel",
          "state": {
            "_view_name": "StyleView",
            "_model_name": "ProgressStyleModel",
            "description_width": "initial",
            "_view_module": "@jupyter-widgets/base",
            "_model_module_version": "1.5.0",
            "_view_count": null,
            "_view_module_version": "1.2.0",
            "bar_color": null,
            "_model_module": "@jupyter-widgets/controls"
          }
        },
        "a1c63c31e7494fe3a8b6f6da46bc8b74": {
          "model_module": "@jupyter-widgets/base",
          "model_name": "LayoutModel",
          "state": {
            "_view_name": "LayoutView",
            "grid_template_rows": null,
            "right": null,
            "justify_content": null,
            "_view_module": "@jupyter-widgets/base",
            "overflow": null,
            "_model_module_version": "1.2.0",
            "_view_count": null,
            "flex_flow": null,
            "width": null,
            "min_width": null,
            "border": null,
            "align_items": null,
            "bottom": null,
            "_model_module": "@jupyter-widgets/base",
            "top": null,
            "grid_column": null,
            "overflow_y": null,
            "overflow_x": null,
            "grid_auto_flow": null,
            "grid_area": null,
            "grid_template_columns": null,
            "flex": null,
            "_model_name": "LayoutModel",
            "justify_items": null,
            "grid_row": null,
            "max_height": null,
            "align_content": null,
            "visibility": null,
            "align_self": null,
            "height": null,
            "min_height": null,
            "padding": null,
            "grid_auto_rows": null,
            "grid_gap": null,
            "max_width": null,
            "order": null,
            "_view_module_version": "1.2.0",
            "grid_template_areas": null,
            "object_position": null,
            "object_fit": null,
            "grid_auto_columns": null,
            "margin": null,
            "display": null,
            "left": null
          }
        },
        "fdf3bd3380974375b8520ae66d4659ff": {
          "model_module": "@jupyter-widgets/controls",
          "model_name": "DescriptionStyleModel",
          "state": {
            "_view_name": "StyleView",
            "_model_name": "DescriptionStyleModel",
            "description_width": "",
            "_view_module": "@jupyter-widgets/base",
            "_model_module_version": "1.5.0",
            "_view_count": null,
            "_view_module_version": "1.2.0",
            "_model_module": "@jupyter-widgets/controls"
          }
        },
        "6e908cfb945642a6af46f88f450c4490": {
          "model_module": "@jupyter-widgets/base",
          "model_name": "LayoutModel",
          "state": {
            "_view_name": "LayoutView",
            "grid_template_rows": null,
            "right": null,
            "justify_content": null,
            "_view_module": "@jupyter-widgets/base",
            "overflow": null,
            "_model_module_version": "1.2.0",
            "_view_count": null,
            "flex_flow": null,
            "width": null,
            "min_width": null,
            "border": null,
            "align_items": null,
            "bottom": null,
            "_model_module": "@jupyter-widgets/base",
            "top": null,
            "grid_column": null,
            "overflow_y": null,
            "overflow_x": null,
            "grid_auto_flow": null,
            "grid_area": null,
            "grid_template_columns": null,
            "flex": null,
            "_model_name": "LayoutModel",
            "justify_items": null,
            "grid_row": null,
            "max_height": null,
            "align_content": null,
            "visibility": null,
            "align_self": null,
            "height": null,
            "min_height": null,
            "padding": null,
            "grid_auto_rows": null,
            "grid_gap": null,
            "max_width": null,
            "order": null,
            "_view_module_version": "1.2.0",
            "grid_template_areas": null,
            "object_position": null,
            "object_fit": null,
            "grid_auto_columns": null,
            "margin": null,
            "display": null,
            "left": null
          }
        },
        "09e6cac66a954699809f0ff7d024226d": {
          "model_module": "@jupyter-widgets/controls",
          "model_name": "HBoxModel",
          "state": {
            "_view_name": "HBoxView",
            "_dom_classes": [],
            "_model_name": "HBoxModel",
            "_view_module": "@jupyter-widgets/controls",
            "_model_module_version": "1.5.0",
            "_view_count": null,
            "_view_module_version": "1.5.0",
            "box_style": "",
            "layout": "IPY_MODEL_faa673cf66ea4f65aa0a5b6fba953b90",
            "_model_module": "@jupyter-widgets/controls",
            "children": [
              "IPY_MODEL_5e1ebf4d7d3c4ba0a62f6499623a2508",
              "IPY_MODEL_9518fbaab9534f35b0df1891e5b8d14b"
            ]
          }
        },
        "faa673cf66ea4f65aa0a5b6fba953b90": {
          "model_module": "@jupyter-widgets/base",
          "model_name": "LayoutModel",
          "state": {
            "_view_name": "LayoutView",
            "grid_template_rows": null,
            "right": null,
            "justify_content": null,
            "_view_module": "@jupyter-widgets/base",
            "overflow": null,
            "_model_module_version": "1.2.0",
            "_view_count": null,
            "flex_flow": null,
            "width": null,
            "min_width": null,
            "border": null,
            "align_items": null,
            "bottom": null,
            "_model_module": "@jupyter-widgets/base",
            "top": null,
            "grid_column": null,
            "overflow_y": null,
            "overflow_x": null,
            "grid_auto_flow": null,
            "grid_area": null,
            "grid_template_columns": null,
            "flex": null,
            "_model_name": "LayoutModel",
            "justify_items": null,
            "grid_row": null,
            "max_height": null,
            "align_content": null,
            "visibility": null,
            "align_self": null,
            "height": null,
            "min_height": null,
            "padding": null,
            "grid_auto_rows": null,
            "grid_gap": null,
            "max_width": null,
            "order": null,
            "_view_module_version": "1.2.0",
            "grid_template_areas": null,
            "object_position": null,
            "object_fit": null,
            "grid_auto_columns": null,
            "margin": null,
            "display": null,
            "left": null
          }
        },
        "5e1ebf4d7d3c4ba0a62f6499623a2508": {
          "model_module": "@jupyter-widgets/controls",
          "model_name": "FloatProgressModel",
          "state": {
            "_view_name": "ProgressView",
            "style": "IPY_MODEL_fd733340fe1a42128fc385af9f61d505",
            "_dom_classes": [],
            "description": "100%",
            "_model_name": "FloatProgressModel",
            "bar_style": "success",
            "max": 24079,
            "_view_module": "@jupyter-widgets/controls",
            "_model_module_version": "1.5.0",
            "value": 24079,
            "_view_count": null,
            "_view_module_version": "1.5.0",
            "orientation": "horizontal",
            "min": 0,
            "description_tooltip": null,
            "_model_module": "@jupyter-widgets/controls",
            "layout": "IPY_MODEL_6621a147856741b4870042c752196a0d"
          }
        },
        "9518fbaab9534f35b0df1891e5b8d14b": {
          "model_module": "@jupyter-widgets/controls",
          "model_name": "HTMLModel",
          "state": {
            "_view_name": "HTMLView",
            "style": "IPY_MODEL_2132b573283143cbbcf8b6c4c8eda3d9",
            "_dom_classes": [],
            "description": "",
            "_model_name": "HTMLModel",
            "placeholder": "​",
            "_view_module": "@jupyter-widgets/controls",
            "_model_module_version": "1.5.0",
            "value": " 24079/24079 [05:03&lt;00:00, 79.30it/s]",
            "_view_count": null,
            "_view_module_version": "1.5.0",
            "description_tooltip": null,
            "_model_module": "@jupyter-widgets/controls",
            "layout": "IPY_MODEL_91b3b5d60bd64a60861c7345b7c8c0b4"
          }
        },
        "fd733340fe1a42128fc385af9f61d505": {
          "model_module": "@jupyter-widgets/controls",
          "model_name": "ProgressStyleModel",
          "state": {
            "_view_name": "StyleView",
            "_model_name": "ProgressStyleModel",
            "description_width": "initial",
            "_view_module": "@jupyter-widgets/base",
            "_model_module_version": "1.5.0",
            "_view_count": null,
            "_view_module_version": "1.2.0",
            "bar_color": null,
            "_model_module": "@jupyter-widgets/controls"
          }
        },
        "6621a147856741b4870042c752196a0d": {
          "model_module": "@jupyter-widgets/base",
          "model_name": "LayoutModel",
          "state": {
            "_view_name": "LayoutView",
            "grid_template_rows": null,
            "right": null,
            "justify_content": null,
            "_view_module": "@jupyter-widgets/base",
            "overflow": null,
            "_model_module_version": "1.2.0",
            "_view_count": null,
            "flex_flow": null,
            "width": null,
            "min_width": null,
            "border": null,
            "align_items": null,
            "bottom": null,
            "_model_module": "@jupyter-widgets/base",
            "top": null,
            "grid_column": null,
            "overflow_y": null,
            "overflow_x": null,
            "grid_auto_flow": null,
            "grid_area": null,
            "grid_template_columns": null,
            "flex": null,
            "_model_name": "LayoutModel",
            "justify_items": null,
            "grid_row": null,
            "max_height": null,
            "align_content": null,
            "visibility": null,
            "align_self": null,
            "height": null,
            "min_height": null,
            "padding": null,
            "grid_auto_rows": null,
            "grid_gap": null,
            "max_width": null,
            "order": null,
            "_view_module_version": "1.2.0",
            "grid_template_areas": null,
            "object_position": null,
            "object_fit": null,
            "grid_auto_columns": null,
            "margin": null,
            "display": null,
            "left": null
          }
        },
        "2132b573283143cbbcf8b6c4c8eda3d9": {
          "model_module": "@jupyter-widgets/controls",
          "model_name": "DescriptionStyleModel",
          "state": {
            "_view_name": "StyleView",
            "_model_name": "DescriptionStyleModel",
            "description_width": "",
            "_view_module": "@jupyter-widgets/base",
            "_model_module_version": "1.5.0",
            "_view_count": null,
            "_view_module_version": "1.2.0",
            "_model_module": "@jupyter-widgets/controls"
          }
        },
        "91b3b5d60bd64a60861c7345b7c8c0b4": {
          "model_module": "@jupyter-widgets/base",
          "model_name": "LayoutModel",
          "state": {
            "_view_name": "LayoutView",
            "grid_template_rows": null,
            "right": null,
            "justify_content": null,
            "_view_module": "@jupyter-widgets/base",
            "overflow": null,
            "_model_module_version": "1.2.0",
            "_view_count": null,
            "flex_flow": null,
            "width": null,
            "min_width": null,
            "border": null,
            "align_items": null,
            "bottom": null,
            "_model_module": "@jupyter-widgets/base",
            "top": null,
            "grid_column": null,
            "overflow_y": null,
            "overflow_x": null,
            "grid_auto_flow": null,
            "grid_area": null,
            "grid_template_columns": null,
            "flex": null,
            "_model_name": "LayoutModel",
            "justify_items": null,
            "grid_row": null,
            "max_height": null,
            "align_content": null,
            "visibility": null,
            "align_self": null,
            "height": null,
            "min_height": null,
            "padding": null,
            "grid_auto_rows": null,
            "grid_gap": null,
            "max_width": null,
            "order": null,
            "_view_module_version": "1.2.0",
            "grid_template_areas": null,
            "object_position": null,
            "object_fit": null,
            "grid_auto_columns": null,
            "margin": null,
            "display": null,
            "left": null
          }
        }
      }
    }
  },
  "cells": [
    {
      "cell_type": "markdown",
      "metadata": {
        "id": "view-in-github",
        "colab_type": "text"
      },
      "source": [
        "<a href=\"https://colab.research.google.com/github/Natthapolmnc/SentimentAnalysis/blob/main/SentimentAnalysis.ipynb\" target=\"_parent\"><img src=\"https://colab.research.google.com/assets/colab-badge.svg\" alt=\"Open In Colab\"/></a>"
      ]
    },
    {
      "cell_type": "code",
      "metadata": {
        "colab": {
          "base_uri": "https://localhost:8080/"
        },
        "id": "69MLPiDrzqSv",
        "outputId": "786271fa-a51d-453f-83e4-690dd1bf07fb"
      },
      "source": [
        "!wget https://raw.githubusercontent.com/Natthapolmnc/SentimentAnalysis/main/dat/train.tsv"
      ],
      "execution_count": null,
      "outputs": [
        {
          "output_type": "stream",
          "text": [
            "--2021-01-29 06:45:16--  https://raw.githubusercontent.com/Natthapolmnc/SentimentAnalysis/main/dat/train.tsv\n",
            "Resolving raw.githubusercontent.com (raw.githubusercontent.com)... 151.101.0.133, 151.101.64.133, 151.101.128.133, ...\n",
            "Connecting to raw.githubusercontent.com (raw.githubusercontent.com)|151.101.0.133|:443... connected.\n",
            "HTTP request sent, awaiting response... 200 OK\n",
            "Length: 8481022 (8.1M) [text/plain]\n",
            "Saving to: ‘train.tsv’\n",
            "\n",
            "train.tsv           100%[===================>]   8.09M  --.-KB/s    in 0.06s   \n",
            "\n",
            "2021-01-29 06:45:16 (132 MB/s) - ‘train.tsv’ saved [8481022/8481022]\n",
            "\n"
          ],
          "name": "stdout"
        }
      ]
    },
    {
      "cell_type": "code",
      "metadata": {
        "colab": {
          "base_uri": "https://localhost:8080/"
        },
        "id": "IvensMy8ztHC",
        "outputId": "df40a7f1-bbb7-424c-8d37-d32b2af30864"
      },
      "source": [
        "!wget https://raw.githubusercontent.com/Natthapolmnc/SentimentAnalysis/main/dat/test.tsv"
      ],
      "execution_count": null,
      "outputs": [
        {
          "output_type": "stream",
          "text": [
            "--2021-01-29 06:45:17--  https://raw.githubusercontent.com/Natthapolmnc/SentimentAnalysis/main/dat/test.tsv\n",
            "Resolving raw.githubusercontent.com (raw.githubusercontent.com)... 151.101.0.133, 151.101.64.133, 151.101.128.133, ...\n",
            "Connecting to raw.githubusercontent.com (raw.githubusercontent.com)|151.101.0.133|:443... connected.\n",
            "HTTP request sent, awaiting response... 200 OK\n",
            "Length: 3367149 (3.2M) [text/plain]\n",
            "Saving to: ‘test.tsv’\n",
            "\n",
            "\rtest.tsv              0%[                    ]       0  --.-KB/s               \rtest.tsv            100%[===================>]   3.21M  --.-KB/s    in 0.05s   \n",
            "\n",
            "2021-01-29 06:45:17 (64.0 MB/s) - ‘test.tsv’ saved [3367149/3367149]\n",
            "\n"
          ],
          "name": "stdout"
        }
      ]
    },
    {
      "cell_type": "code",
      "metadata": {
        "colab": {
          "base_uri": "https://localhost:8080/"
        },
        "id": "ptTBvhqr0SdK",
        "outputId": "83330ab4-b669-4923-fff1-903dbcd5d388"
      },
      "source": [
        "!wget https://raw.githubusercontent.com/Natthapolmnc/SentimentAnalysis/main/prep_dat/words_set.pkl"
      ],
      "execution_count": null,
      "outputs": [
        {
          "output_type": "stream",
          "text": [
            "--2021-01-29 06:45:19--  https://raw.githubusercontent.com/Natthapolmnc/SentimentAnalysis/main/prep_dat/words_set.pkl\n",
            "Resolving raw.githubusercontent.com (raw.githubusercontent.com)... 151.101.0.133, 151.101.64.133, 151.101.128.133, ...\n",
            "Connecting to raw.githubusercontent.com (raw.githubusercontent.com)|151.101.0.133|:443... connected.\n",
            "HTTP request sent, awaiting response... 200 OK\n",
            "Length: 413815 (404K) [application/octet-stream]\n",
            "Saving to: ‘words_set.pkl’\n",
            "\n",
            "words_set.pkl       100%[===================>] 404.12K  --.-KB/s    in 0.01s   \n",
            "\n",
            "2021-01-29 06:45:20 (38.2 MB/s) - ‘words_set.pkl’ saved [413815/413815]\n",
            "\n"
          ],
          "name": "stdout"
        }
      ]
    },
    {
      "cell_type": "code",
      "metadata": {
        "colab": {
          "base_uri": "https://localhost:8080/"
        },
        "id": "M6NJoTBJ6G_M",
        "outputId": "bddfc3fa-8cdf-4c42-c1ed-af05feab67cf"
      },
      "source": [
        "!wget https://raw.githubusercontent.com/Natthapolmnc/SentimentAnalysis/main/prep_dat/train.pkl"
      ],
      "execution_count": null,
      "outputs": [
        {
          "output_type": "stream",
          "text": [
            "--2021-01-29 06:45:22--  https://raw.githubusercontent.com/Natthapolmnc/SentimentAnalysis/main/prep_dat/train.pkl\n",
            "Resolving raw.githubusercontent.com (raw.githubusercontent.com)... 151.101.0.133, 151.101.64.133, 151.101.128.133, ...\n",
            "Connecting to raw.githubusercontent.com (raw.githubusercontent.com)|151.101.0.133|:443... connected.\n",
            "HTTP request sent, awaiting response... 200 OK\n",
            "Length: 14813918 (14M) [application/octet-stream]\n",
            "Saving to: ‘train.pkl’\n",
            "\n",
            "train.pkl           100%[===================>]  14.13M  --.-KB/s    in 0.1s    \n",
            "\n",
            "2021-01-29 06:45:22 (130 MB/s) - ‘train.pkl’ saved [14813918/14813918]\n",
            "\n"
          ],
          "name": "stdout"
        }
      ]
    },
    {
      "cell_type": "code",
      "metadata": {
        "colab": {
          "base_uri": "https://localhost:8080/"
        },
        "id": "HVIKo19Q2ItD",
        "outputId": "d2d11e41-d3cf-4a2f-8c54-da5937dedfb5"
      },
      "source": [
        "# !wget http://nlp.stanford.edu/data/glove.840B.300d.zip"
      ],
      "execution_count": null,
      "outputs": [
        {
          "output_type": "stream",
          "text": [
            "--2021-01-28 13:58:03--  http://nlp.stanford.edu/data/glove.840B.300d.zip\n",
            "Resolving nlp.stanford.edu (nlp.stanford.edu)... 171.64.67.140\n",
            "Connecting to nlp.stanford.edu (nlp.stanford.edu)|171.64.67.140|:80... connected.\n",
            "HTTP request sent, awaiting response... 302 Found\n",
            "Location: https://nlp.stanford.edu/data/glove.840B.300d.zip [following]\n",
            "--2021-01-28 13:58:04--  https://nlp.stanford.edu/data/glove.840B.300d.zip\n",
            "Connecting to nlp.stanford.edu (nlp.stanford.edu)|171.64.67.140|:443... connected.\n",
            "HTTP request sent, awaiting response... 301 Moved Permanently\n",
            "Location: http://downloads.cs.stanford.edu/nlp/data/glove.840B.300d.zip [following]\n",
            "--2021-01-28 13:58:04--  http://downloads.cs.stanford.edu/nlp/data/glove.840B.300d.zip\n",
            "Resolving downloads.cs.stanford.edu (downloads.cs.stanford.edu)... 171.64.64.22\n",
            "Connecting to downloads.cs.stanford.edu (downloads.cs.stanford.edu)|171.64.64.22|:80... connected.\n",
            "HTTP request sent, awaiting response... 200 OK\n",
            "Length: 2176768927 (2.0G) [application/zip]\n",
            "Saving to: ‘glove.840B.300d.zip’\n",
            "\n",
            "glove.840B.300d.zip   1%[                    ]  28.96M  11.1MB/s               ^C\n"
          ],
          "name": "stdout"
        }
      ]
    },
    {
      "cell_type": "code",
      "metadata": {
        "id": "Bth4Zpyws4dU"
      },
      "source": [
        "import pandas as pd\r\n",
        "import pickle as pkl\r\n",
        "from tqdm.notebook import tqdm\r\n",
        "import tensorflow as tf\r\n",
        "import numpy as np\r\n",
        "import pickle as pkl\r\n",
        "from sklearn.model_selection import KFold, StratifiedKFold"
      ],
      "execution_count": null,
      "outputs": []
    },
    {
      "cell_type": "code",
      "metadata": {
        "id": "hk2QR2_h4yu6"
      },
      "source": [
        "import en_core_web_sm\r\n",
        "from spacy.lemmatizer import Lemmatizer\r\n",
        "from spacy.lookups import Lookups"
      ],
      "execution_count": null,
      "outputs": []
    },
    {
      "cell_type": "code",
      "metadata": {
        "id": "F6og3ZqNtGbq"
      },
      "source": [
        "nlp = en_core_web_sm.load()"
      ],
      "execution_count": null,
      "outputs": []
    },
    {
      "cell_type": "code",
      "metadata": {
        "id": "Qoy16ymm73vb"
      },
      "source": [
        "def token_prep(token):\r\n",
        "  # text lammatizing and lowercase\r\n",
        "  return token.lower_\r\n",
        "\r\n",
        "def token_filter(token):\r\n",
        "  #check valid token not stop word of punctuation\r\n",
        "  if (not token or not token.string.strip() or token.is_punct):\r\n",
        "      return False\r\n",
        "  return True"
      ],
      "execution_count": null,
      "outputs": []
    },
    {
      "cell_type": "code",
      "metadata": {
        "id": "yg8SQy_2fz09"
      },
      "source": [
        "def label_prep(dat):\r\n",
        "    y=[]\r\n",
        "    dat=dat.drop(columns=[\"SentenceId\", \"PhraseId\"])\r\n",
        "    dat=dat.where(dat[\"Phrase\"].apply(lambda x:len(x.split())>10)).dropna()\r\n",
        "    hits=0\r\n",
        "    loss=0\r\n",
        "    for i in tqdm(dat.values):\r\n",
        "      one_hot=np.zeros((5,))\r\n",
        "      one_hot[int(i[1])]=1\r\n",
        "      y.append(one_hot)\r\n",
        "    return y"
      ],
      "execution_count": null,
      "outputs": []
    },
    {
      "cell_type": "code",
      "metadata": {
        "id": "R5v2P5QPgBma"
      },
      "source": [
        "def extract_set_words(dat):\r\n",
        "    x=[]\r\n",
        "    dat=dat.drop(columns=[\"SentenceId\", \"PhraseId\"])\r\n",
        "    dat=dat.where(dat[\"Phrase\"].apply(lambda x:len(x.split())>10)).dropna()\r\n",
        "    for i in tqdm(dat.values):\r\n",
        "       doc_i=nlp(i[0])\r\n",
        "       wrds_set=[]\r\n",
        "       for toks in doc_i:\r\n",
        "          if (token_filter(toks)):\r\n",
        "            wrds_set.append(token_prep(toks))\r\n",
        "       x.append(wrds_set)\r\n",
        "    \r\n",
        "    all_words=[]\r\n",
        "    for i in tqdm(x):\r\n",
        "      for wrd in i:\r\n",
        "        all_words.append(wrd)\r\n",
        "    \r\n",
        "    return list(set(all_words))\r\n"
      ],
      "execution_count": null,
      "outputs": []
    },
    {
      "cell_type": "code",
      "metadata": {
        "id": "iTN-4-6Qu6R8"
      },
      "source": [
        "def x_prep(dat):\r\n",
        "    x=[]\r\n",
        "    dat=dat.drop(columns=[\"SentenceId\", \"PhraseId\"])\r\n",
        "    dat=dat.where(dat[\"Phrase\"].apply(lambda x:len(x.split())>10)).dropna()\r\n",
        "    max_sent=0\r\n",
        "    for i in tqdm(dat.values):\r\n",
        "       doc_i=nlp(i[0])\r\n",
        "       wrds_set=[]\r\n",
        "       for toks in doc_i:\r\n",
        "          if (token_filter(toks)):\r\n",
        "            wrds_set.append(token_prep(toks))\r\n",
        "       index_set=[]\r\n",
        "       for wrd in wrds_set:\r\n",
        "         index_set.append(index_word_dict[wrd])\r\n",
        "       x.append(index_set)\r\n",
        "       if (max_sent<(len(index_set))):\r\n",
        "         max_sent=len(index_set)\r\n",
        "    res=[]\r\n",
        "    for i in tqdm(x):\r\n",
        "      padded_res=np.zeros((max_sent,))\r\n",
        "      padded_res[:len(i)]=i\r\n",
        "      res.append(padded_res)\r\n",
        "    \r\n",
        "    return res\r\n",
        "       "
      ],
      "execution_count": null,
      "outputs": []
    },
    {
      "cell_type": "code",
      "metadata": {
        "id": "bl_ERrwotQfW"
      },
      "source": [
        "train_dat=pd.read_csv(\"train.tsv\",sep=\"\\t\")\r\n",
        "test_dat=pd.read_csv(\"test.tsv\",sep=\"\\t\")"
      ],
      "execution_count": null,
      "outputs": []
    },
    {
      "cell_type": "code",
      "metadata": {
        "id": "6YdZRwrnK0Gi"
      },
      "source": [
        "# Extract load set\r\n",
        "\r\n",
        "# train_wrds=extract_set_words(train_dat)\r\n",
        "# test_wrds=extract_set_words(test_dat)\r\n",
        "# words_set=[]\r\n",
        "# for i in tqdm(test_wrds):\r\n",
        "#   words_set.append(i)\r\n",
        "# for i in tqdm(train_wrds):\r\n",
        "#   words_set.append(i)\r\n",
        "\r\n",
        "## Load prep dat\r\n",
        "words_set=None\r\n",
        "with open(\"words_set.pkl\",\"rb\") as f:\r\n",
        "  words_set=pkl.load(f)\r\n"
      ],
      "execution_count": null,
      "outputs": []
    },
    {
      "cell_type": "code",
      "metadata": {
        "id": "KUsmveEKt8Pl"
      },
      "source": [
        "word_index_dict={1+k:v for k,v in enumerate(words_set)}\r\n",
        "index_word_dict={v:k+1 for k,v in enumerate(words_set)}\r\n",
        "# train_x=x_prep(train_dat)\r\n",
        "# train_x=np.asarray(train_x)\r\n",
        "# train_y=np.asarray(label_prep(train_dat))\r\n",
        "\r\n",
        "## load prep dat\r\n",
        "train=None\r\n",
        "with open(\"train.pkl\",\"rb\") as f:\r\n",
        "  train=pkl.load(f)\r\n",
        "train_x,train_y=train"
      ],
      "execution_count": null,
      "outputs": []
    },
    {
      "cell_type": "code",
      "metadata": {
        "id": "oskad46Fi_uy"
      },
      "source": [
        "f=open(\"train.pkl\",\"wb\")\r\n",
        "pkl.dump([train_x,train_y],f)\r\n",
        "f.close()"
      ],
      "execution_count": null,
      "outputs": []
    },
    {
      "cell_type": "code",
      "metadata": {
        "id": "jtv1UtaDuucy"
      },
      "source": [
        "f=open(\"words_set.pkl\",\"wb\")\r\n",
        "pkl.dump(words_set,f)\r\n",
        "f.close()"
      ],
      "execution_count": null,
      "outputs": []
    },
    {
      "cell_type": "code",
      "metadata": {
        "id": "-iHjqYTw97AZ"
      },
      "source": [
        "class TokenAndPositionEmbedding(tf.keras.layers.Layer):\r\n",
        "    def __init__(self, maxlen, vocab_size):\r\n",
        "        super(TokenAndPositionEmbedding, self).__init__()\r\n",
        "        self.token_emb = tf.keras.layers.Embedding(input_dim=vocab_size, output_dim=300,trainable=False,weights=[embedding_matrix],mask_zero=True)\r\n",
        "        self.pos_emb = tf.keras.layers.Embedding(input_dim=maxlen, output_dim=300)\r\n",
        "\r\n",
        "    def call(self, x):\r\n",
        "        maxlen = tf.shape(x)[-1]\r\n",
        "        positions = tf.range(start=0, limit=maxlen, delta=1)\r\n",
        "        positions = self.pos_emb(positions)\r\n",
        "        x = self.token_emb(x)\r\n",
        "        return x + positions"
      ],
      "execution_count": null,
      "outputs": []
    },
    {
      "cell_type": "code",
      "metadata": {
        "id": "wkaNrGo_Y4IQ",
        "colab": {
          "base_uri": "https://localhost:8080/",
          "height": 213,
          "referenced_widgets": [
            "4555759847aa4772ad9fee402acb2f42",
            "d335f20ce9fa4f4499955e11f5f71be3",
            "5323102cfa95499395d3b62dea0a0715",
            "d18252c1d0f84ef5a2fc68c6bf00b281",
            "adf667854b1242be8c6f24aff01a1b6e",
            "a1c63c31e7494fe3a8b6f6da46bc8b74",
            "fdf3bd3380974375b8520ae66d4659ff",
            "6e908cfb945642a6af46f88f450c4490",
            "09e6cac66a954699809f0ff7d024226d",
            "faa673cf66ea4f65aa0a5b6fba953b90",
            "5e1ebf4d7d3c4ba0a62f6499623a2508",
            "9518fbaab9534f35b0df1891e5b8d14b",
            "fd733340fe1a42128fc385af9f61d505",
            "6621a147856741b4870042c752196a0d",
            "2132b573283143cbbcf8b6c4c8eda3d9",
            "91b3b5d60bd64a60861c7345b7c8c0b4"
          ]
        },
        "outputId": "208c372f-beb4-44c9-c174-8e729a25cad4"
      },
      "source": [
        "# prepare pre-train embbeding\r\n",
        "path_to_glove_file=\"/content/drive/Shareddrives/Chula Drive/Project/glove.840B.300d.txt\"\r\n",
        " \r\n",
        "embeddings_index = {}\r\n",
        "with open(path_to_glove_file,\"r\",encoding=\"utf-8\") as f:\r\n",
        "    for line in tqdm(f):\r\n",
        "        word, coefs = line.split(maxsplit=1)\r\n",
        "        coefs = np.fromstring(coefs, dtype=float ,sep=\" \")\r\n",
        "        embeddings_index[word] = coefs\r\n",
        " \r\n",
        "print(\"Found %s word vectors.\" % len(embeddings_index))\r\n",
        " \r\n",
        "# create mapping of word vector\r\n",
        "num_vocab=len(words_set)+1\r\n",
        "emb_size=300\r\n",
        "hits=0\r\n",
        "misses=0\r\n",
        " \r\n",
        "# Prepare embedding matrix\r\n",
        "embedding_matrix = np.zeros((num_vocab, emb_size))\r\n",
        "for i,word in tqdm(word_index_dict.items()):\r\n",
        "    embedding_vector = embeddings_index.get(word)\r\n",
        "    if embedding_vector is not None:\r\n",
        "        # Words not found in embedding index will be all-zeros.\r\n",
        "        # This includes the representation for \"padding\" and \"OOV\"\r\n",
        "        try:\r\n",
        "            embedding_matrix[i] = embedding_vector\r\n",
        "            hits+=1\r\n",
        "        except:\r\n",
        "            misses+=1\r\n",
        "    else:\r\n",
        "        misses += 1\r\n",
        "print(\"Converted %d words (%d misses)\" % (hits, misses))\r\n",
        "del embeddings_index"
      ],
      "execution_count": null,
      "outputs": [
        {
          "output_type": "display_data",
          "data": {
            "application/vnd.jupyter.widget-view+json": {
              "model_id": "4555759847aa4772ad9fee402acb2f42",
              "version_minor": 0,
              "version_major": 2
            },
            "text/plain": [
              "HBox(children=(FloatProgress(value=1.0, bar_style='info', max=1.0), HTML(value='')))"
            ]
          },
          "metadata": {
            "tags": []
          }
        },
        {
          "output_type": "stream",
          "text": [
            "/usr/local/lib/python3.6/dist-packages/ipykernel_launcher.py:8: DeprecationWarning: string or file could not be read to its end due to unmatched data; this will raise a ValueError in the future.\n",
            "  \n"
          ],
          "name": "stderr"
        },
        {
          "output_type": "stream",
          "text": [
            "\n",
            "Found 2195884 word vectors.\n"
          ],
          "name": "stdout"
        },
        {
          "output_type": "display_data",
          "data": {
            "application/vnd.jupyter.widget-view+json": {
              "model_id": "09e6cac66a954699809f0ff7d024226d",
              "version_minor": 0,
              "version_major": 2
            },
            "text/plain": [
              "HBox(children=(FloatProgress(value=0.0, max=24079.0), HTML(value='')))"
            ]
          },
          "metadata": {
            "tags": []
          }
        },
        {
          "output_type": "stream",
          "text": [
            "\n",
            "Converted 23452 words (627 misses)\n"
          ],
          "name": "stdout"
        }
      ]
    },
    {
      "cell_type": "markdown",
      "metadata": {
        "id": "B8jZ71Wh6Sz4"
      },
      "source": [
        "# **Semi-Transformer model**"
      ]
    },
    {
      "cell_type": "code",
      "metadata": {
        "id": "3_yxS1_zfmAJ"
      },
      "source": [
        "## Model #1 loss: 1.4037 - loss: 1.3829 - accuracy: 45.01% - val_loss: 1.4031 - val_accuracy: 45.69%\r\n",
        "\r\n",
        "input_=tf.keras.layers.Input((48,))\r\n",
        "add_pos=TokenAndPositionEmbedding(48,num_vocab)(input_)\r\n",
        "\r\n",
        "### Attention\r\n",
        "query=tf.keras.layers.Dense(128,activation=\"relu\",kernel_regularizer=tf.keras.regularizers.L1(0.005),activity_regularizer=tf.keras.regularizers.L2(0.01))(add_pos)\r\n",
        "val=tf.keras.layers.Dense(128,activation=\"relu\",kernel_regularizer=tf.keras.regularizers.L1(0.005),activity_regularizer=tf.keras.regularizers.L2(0.01))(add_pos)\r\n",
        "key=tf.keras.layers.Dense(128,activation=\"relu\",kernel_regularizer=tf.keras.regularizers.L1(0.005),activity_regularizer=tf.keras.regularizers.L2(0.01))(add_pos)\r\n",
        "att_lay=tf.keras.layers.Attention()([query,val,key])\r\n",
        "flat_lay=tf.keras.layers.Flatten()(att_lay)\r\n",
        "\r\n",
        "### Result Dense\r\n",
        "res=tf.keras.layers.Dense(5,activation=\"softmax\")(flat_lay)"
      ],
      "execution_count": null,
      "outputs": []
    },
    {
      "cell_type": "code",
      "metadata": {
        "id": "mK1pBf54KItV"
      },
      "source": [
        "## Model #2 loss: 1.4085 - accuracy: 44.54% - val_loss: 1.4184 - val_accuracy: 44.69%\r\n",
        "\r\n",
        "input_=tf.keras.layers.Input((48,))\r\n",
        "add_pos=TokenAndPositionEmbedding(48,num_vocab)(input_)\r\n",
        "\r\n",
        "### Attention\r\n",
        "query=tf.keras.layers.Dense(64,activation=\"relu\",kernel_regularizer=tf.keras.regularizers.L1(0.007),activity_regularizer=tf.keras.regularizers.L2(0.01))(add_pos)\r\n",
        "val=tf.keras.layers.Dense(64,activation=\"relu\",kernel_regularizer=tf.keras.regularizers.L1(0.007),activity_regularizer=tf.keras.regularizers.L2(0.01))(add_pos)\r\n",
        "key=tf.keras.layers.Dense(64,activation=\"relu\",kernel_regularizer=tf.keras.regularizers.L1(0.007),activity_regularizer=tf.keras.regularizers.L2(0.01))(add_pos)\r\n",
        "att_lay=tf.keras.layers.Attention()([query,val,key])\r\n",
        "flat_lay=tf.keras.layers.Flatten()(att_lay)\r\n",
        "\r\n",
        "### Result Dense\r\n",
        "res=tf.keras.layers.Dense(5,activation=\"softmax\")(flat_lay)"
      ],
      "execution_count": null,
      "outputs": []
    },
    {
      "cell_type": "code",
      "metadata": {
        "id": "OCbX4bQ7ICKx"
      },
      "source": [
        "## Model #3 loss: 1.3243 - loss: 1.3670 - accuracy: 43.68% - val_loss: 1.3725 - val_accuracy: 45.11%\r\n",
        "\r\n",
        "input_=tf.keras.layers.Input((48,))\r\n",
        "add_pos=TokenAndPositionEmbedding(48,num_vocab)(input_)\r\n",
        "\r\n",
        "### Attention\r\n",
        "query=tf.keras.layers.Dense(32,activation=\"relu\",kernel_regularizer=tf.keras.regularizers.L1(0.007),activity_regularizer=tf.keras.regularizers.L2(0.01))(add_pos)\r\n",
        "val=tf.keras.layers.Dense(32,activation=\"relu\",kernel_regularizer=tf.keras.regularizers.L1(0.007),activity_regularizer=tf.keras.regularizers.L2(0.01))(add_pos)\r\n",
        "key=tf.keras.layers.Dense(32,activation=\"relu\",kernel_regularizer=tf.keras.regularizers.L1(0.007),activity_regularizer=tf.keras.regularizers.L2(0.01))(add_pos)\r\n",
        "att_lay=tf.keras.layers.Attention()([query,val,key])\r\n",
        "flat_lay=tf.keras.layers.Flatten()(att_lay)\r\n",
        "\r\n",
        "### Result Dense\r\n",
        "res=tf.keras.layers.Dense(5,activation=\"softmax\")(flat_lay)"
      ],
      "execution_count": null,
      "outputs": []
    },
    {
      "cell_type": "code",
      "metadata": {
        "id": "GXwqVLWIEDSM"
      },
      "source": [
        "## Model #4 loss: 1.3930 - accuracy: 42.19% - val_loss: 1.3943 - val_accuracy: 43.17%\r\n",
        "\r\n",
        "input_=tf.keras.layers.Input((48,))\r\n",
        "add_pos=TokenAndPositionEmbedding(48,num_vocab)(input_)\r\n",
        "\r\n",
        "### Attention\r\n",
        "query=tf.keras.layers.Dense(16,activation=\"relu\",kernel_regularizer=tf.keras.regularizers.L1(0.01),activity_regularizer=tf.keras.regularizers.L2(0.01))(add_pos)\r\n",
        "val=tf.keras.layers.Dense(16,activation=\"relu\",kernel_regularizer=tf.keras.regularizers.L1(0.01),activity_regularizer=tf.keras.regularizers.L2(0.01))(add_pos)\r\n",
        "key=tf.keras.layers.Dense(16,activation=\"relu\",kernel_regularizer=tf.keras.regularizers.L1(0.01),activity_regularizer=tf.keras.regularizers.L2(0.01))(add_pos)\r\n",
        "att_lay=tf.keras.layers.Attention()([query,val,key])\r\n",
        "flat_lay=tf.keras.layers.Flatten()(att_lay)\r\n",
        "\r\n",
        "### Result Dense\r\n",
        "res=tf.keras.layers.Dense(5,activation=\"softmax\")(flat_lay)"
      ],
      "execution_count": null,
      "outputs": []
    },
    {
      "cell_type": "code",
      "metadata": {
        "id": "mFNKVkeW88eR"
      },
      "source": [
        "model=tf.keras.Model(inputs=input_ ,outputs=res)"
      ],
      "execution_count": null,
      "outputs": []
    },
    {
      "cell_type": "code",
      "metadata": {
        "colab": {
          "base_uri": "https://localhost:8080/"
        },
        "id": "gi0Wa-FP_8gr",
        "outputId": "f18cfb10-6f10-42a7-eff4-32f5c07eabd5"
      },
      "source": [
        "model.summary()"
      ],
      "execution_count": null,
      "outputs": [
        {
          "output_type": "stream",
          "text": [
            "Model: \"model_7\"\n",
            "__________________________________________________________________________________________________\n",
            "Layer (type)                    Output Shape         Param #     Connected to                     \n",
            "==================================================================================================\n",
            "input_8 (InputLayer)            [(None, 48)]         0                                            \n",
            "__________________________________________________________________________________________________\n",
            "token_and_position_embedding_2  (None, 48, 300)      7238400     input_8[0][0]                    \n",
            "__________________________________________________________________________________________________\n",
            "dense_18 (Dense)                (None, 48, 16)       4816        token_and_position_embedding_2[0]\n",
            "__________________________________________________________________________________________________\n",
            "dense_19 (Dense)                (None, 48, 16)       4816        token_and_position_embedding_2[0]\n",
            "__________________________________________________________________________________________________\n",
            "dense_20 (Dense)                (None, 48, 16)       4816        token_and_position_embedding_2[0]\n",
            "__________________________________________________________________________________________________\n",
            "attention_2 (Attention)         (None, 48, 16)       0           dense_18[0][0]                   \n",
            "                                                                 dense_19[0][0]                   \n",
            "                                                                 dense_20[0][0]                   \n",
            "__________________________________________________________________________________________________\n",
            "flatten_2 (Flatten)             (None, 768)          0           attention_2[0][0]                \n",
            "__________________________________________________________________________________________________\n",
            "dense_21 (Dense)                (None, 5)            3845        flatten_2[0][0]                  \n",
            "==================================================================================================\n",
            "Total params: 7,256,693\n",
            "Trainable params: 32,693\n",
            "Non-trainable params: 7,224,000\n",
            "__________________________________________________________________________________________________\n"
          ],
          "name": "stdout"
        }
      ]
    },
    {
      "cell_type": "code",
      "metadata": {
        "id": "COW-taYUABG_"
      },
      "source": [
        "model.compile(optimizer=tf.keras.optimizers.Adam(0.001),loss=tf.keras.losses.CategoricalCrossentropy(),metrics=['accuracy'])"
      ],
      "execution_count": null,
      "outputs": []
    },
    {
      "cell_type": "code",
      "metadata": {
        "colab": {
          "base_uri": "https://localhost:8080/",
          "height": 467
        },
        "id": "09m-wjU8vSO3",
        "outputId": "292a9f64-d1bf-4c16-8b33-c97e8f341fc0"
      },
      "source": [
        "tf.keras.utils.plot_model(model, \"model.png\", show_shapes=True)"
      ],
      "execution_count": null,
      "outputs": [
        {
          "output_type": "execute_result",
          "data": {
            "image/png": "[encoded data removed]",
            "text/plain": [
              "<IPython.core.display.Image object>"
            ]
          },
          "metadata": {
            "tags": []
          },
          "execution_count": 65
        }
      ]
    },
    {
      "cell_type": "code",
      "metadata": {
        "colab": {
          "base_uri": "https://localhost:8080/"
        },
        "id": "nH8w4v_cI9lq",
        "outputId": "acb0c80a-ef97-4ef9-a282-4ab7a1284800"
      },
      "source": [
        "history=model.fit(x=train_x,y=train_y,batch_size=1024,epochs=50,validation_split=0.2)"
      ],
      "execution_count": null,
      "outputs": [
        {
          "output_type": "stream",
          "text": [
            "Epoch 1/50\n",
            "28/28 [==============================] - 2s 45ms/step - loss: 11.1321 - accuracy: 0.2700 - val_loss: 8.1157 - val_accuracy: 0.2896\n",
            "Epoch 2/50\n",
            "28/28 [==============================] - 1s 35ms/step - loss: 7.3390 - accuracy: 0.2921 - val_loss: 5.2433 - val_accuracy: 0.2974\n",
            "Epoch 3/50\n",
            "28/28 [==============================] - 1s 35ms/step - loss: 4.6973 - accuracy: 0.2807 - val_loss: 3.2536 - val_accuracy: 0.2912\n",
            "Epoch 4/50\n",
            "28/28 [==============================] - 1s 35ms/step - loss: 2.9161 - accuracy: 0.2835 - val_loss: 2.0767 - val_accuracy: 0.2871\n",
            "Epoch 5/50\n",
            "28/28 [==============================] - 1s 35ms/step - loss: 1.9304 - accuracy: 0.2778 - val_loss: 1.6435 - val_accuracy: 0.2885\n",
            "Epoch 6/50\n",
            "28/28 [==============================] - 1s 35ms/step - loss: 1.6292 - accuracy: 0.2760 - val_loss: 1.5750 - val_accuracy: 0.2895\n",
            "Epoch 7/50\n",
            "28/28 [==============================] - 1s 39ms/step - loss: 1.5746 - accuracy: 0.2830 - val_loss: 1.5581 - val_accuracy: 0.2898\n",
            "Epoch 8/50\n",
            "28/28 [==============================] - 1s 35ms/step - loss: 1.5598 - accuracy: 0.2803 - val_loss: 1.5482 - val_accuracy: 0.2912\n",
            "Epoch 9/50\n",
            "28/28 [==============================] - 1s 35ms/step - loss: 1.5550 - accuracy: 0.2798 - val_loss: 1.5424 - val_accuracy: 0.2891\n",
            "Epoch 10/50\n",
            "28/28 [==============================] - 1s 41ms/step - loss: 1.5511 - accuracy: 0.2787 - val_loss: 1.5373 - val_accuracy: 0.2938\n",
            "Epoch 11/50\n",
            "28/28 [==============================] - 1s 35ms/step - loss: 1.5423 - accuracy: 0.2848 - val_loss: 1.5349 - val_accuracy: 0.2924\n",
            "Epoch 12/50\n",
            "28/28 [==============================] - 1s 35ms/step - loss: 1.5404 - accuracy: 0.2894 - val_loss: 1.5318 - val_accuracy: 0.3009\n",
            "Epoch 13/50\n",
            "28/28 [==============================] - 1s 36ms/step - loss: 1.5372 - accuracy: 0.2962 - val_loss: 1.5297 - val_accuracy: 0.3017\n",
            "Epoch 14/50\n",
            "28/28 [==============================] - 1s 35ms/step - loss: 1.5374 - accuracy: 0.3004 - val_loss: 1.5284 - val_accuracy: 0.3088\n",
            "Epoch 15/50\n",
            "28/28 [==============================] - 1s 35ms/step - loss: 1.5371 - accuracy: 0.3034 - val_loss: 1.5265 - val_accuracy: 0.3134\n",
            "Epoch 16/50\n",
            "28/28 [==============================] - 1s 36ms/step - loss: 1.5330 - accuracy: 0.3148 - val_loss: 1.5245 - val_accuracy: 0.3234\n",
            "Epoch 17/50\n",
            "28/28 [==============================] - 1s 35ms/step - loss: 1.5264 - accuracy: 0.3287 - val_loss: 1.5207 - val_accuracy: 0.3238\n",
            "Epoch 18/50\n",
            "28/28 [==============================] - 1s 35ms/step - loss: 1.5264 - accuracy: 0.3375 - val_loss: 1.5106 - val_accuracy: 0.3379\n",
            "Epoch 19/50\n",
            "28/28 [==============================] - 1s 35ms/step - loss: 1.5131 - accuracy: 0.3403 - val_loss: 1.5027 - val_accuracy: 0.3453\n",
            "Epoch 20/50\n",
            "28/28 [==============================] - 1s 35ms/step - loss: 1.5030 - accuracy: 0.3504 - val_loss: 1.4883 - val_accuracy: 0.3499\n",
            "Epoch 21/50\n",
            "28/28 [==============================] - 1s 35ms/step - loss: 1.4907 - accuracy: 0.3524 - val_loss: 1.4794 - val_accuracy: 0.3522\n",
            "Epoch 22/50\n",
            "28/28 [==============================] - 1s 35ms/step - loss: 1.4785 - accuracy: 0.3582 - val_loss: 1.4719 - val_accuracy: 0.3728\n",
            "Epoch 23/50\n",
            "28/28 [==============================] - 1s 35ms/step - loss: 1.4768 - accuracy: 0.3672 - val_loss: 1.4623 - val_accuracy: 0.3715\n",
            "Epoch 24/50\n",
            "28/28 [==============================] - 1s 35ms/step - loss: 1.4629 - accuracy: 0.3748 - val_loss: 1.4541 - val_accuracy: 0.3895\n",
            "Epoch 25/50\n",
            "28/28 [==============================] - 1s 35ms/step - loss: 1.4624 - accuracy: 0.3814 - val_loss: 1.4563 - val_accuracy: 0.3822\n",
            "Epoch 26/50\n",
            "28/28 [==============================] - 1s 35ms/step - loss: 1.4524 - accuracy: 0.3871 - val_loss: 1.4419 - val_accuracy: 0.4031\n",
            "Epoch 27/50\n",
            "28/28 [==============================] - 1s 35ms/step - loss: 1.4471 - accuracy: 0.3958 - val_loss: 1.4376 - val_accuracy: 0.4027\n",
            "Epoch 28/50\n",
            "28/28 [==============================] - 1s 35ms/step - loss: 1.4391 - accuracy: 0.3986 - val_loss: 1.4306 - val_accuracy: 0.4161\n",
            "Epoch 29/50\n",
            "28/28 [==============================] - 1s 35ms/step - loss: 1.4380 - accuracy: 0.3964 - val_loss: 1.4251 - val_accuracy: 0.4117\n",
            "Epoch 30/50\n",
            "28/28 [==============================] - 1s 34ms/step - loss: 1.4283 - accuracy: 0.4055 - val_loss: 1.4225 - val_accuracy: 0.4076\n",
            "Epoch 31/50\n",
            "28/28 [==============================] - 1s 35ms/step - loss: 1.4306 - accuracy: 0.4045 - val_loss: 1.4169 - val_accuracy: 0.4194\n",
            "Epoch 32/50\n",
            "28/28 [==============================] - 1s 35ms/step - loss: 1.4212 - accuracy: 0.4101 - val_loss: 1.4119 - val_accuracy: 0.4197\n",
            "Epoch 33/50\n",
            "28/28 [==============================] - 1s 35ms/step - loss: 1.4185 - accuracy: 0.4132 - val_loss: 1.4072 - val_accuracy: 0.4253\n",
            "Epoch 34/50\n",
            "28/28 [==============================] - 1s 35ms/step - loss: 1.4100 - accuracy: 0.4191 - val_loss: 1.4073 - val_accuracy: 0.4284\n",
            "Epoch 35/50\n",
            "28/28 [==============================] - 1s 35ms/step - loss: 1.4067 - accuracy: 0.4197 - val_loss: 1.4041 - val_accuracy: 0.4259\n",
            "Epoch 36/50\n",
            "28/28 [==============================] - 1s 35ms/step - loss: 1.4027 - accuracy: 0.4192 - val_loss: 1.4002 - val_accuracy: 0.4220\n",
            "Epoch 37/50\n",
            "28/28 [==============================] - 1s 35ms/step - loss: 1.4012 - accuracy: 0.4223 - val_loss: 1.3972 - val_accuracy: 0.4259\n",
            "Epoch 38/50\n",
            "28/28 [==============================] - 1s 35ms/step - loss: 1.3971 - accuracy: 0.4206 - val_loss: 1.3937 - val_accuracy: 0.4326\n",
            "Epoch 39/50\n",
            "28/28 [==============================] - 1s 35ms/step - loss: 1.3988 - accuracy: 0.4233 - val_loss: 1.3921 - val_accuracy: 0.4280\n",
            "Epoch 40/50\n",
            "28/28 [==============================] - 1s 35ms/step - loss: 1.3918 - accuracy: 0.4244 - val_loss: 1.3901 - val_accuracy: 0.4353\n",
            "Epoch 41/50\n",
            "28/28 [==============================] - 1s 35ms/step - loss: 1.3904 - accuracy: 0.4233 - val_loss: 1.3888 - val_accuracy: 0.4305\n",
            "Epoch 42/50\n",
            "28/28 [==============================] - 1s 35ms/step - loss: 1.3893 - accuracy: 0.4205 - val_loss: 1.3861 - val_accuracy: 0.4307\n",
            "Epoch 43/50\n",
            "28/28 [==============================] - 1s 35ms/step - loss: 1.3853 - accuracy: 0.4273 - val_loss: 1.3860 - val_accuracy: 0.4390\n",
            "Epoch 44/50\n",
            "28/28 [==============================] - 1s 35ms/step - loss: 1.3832 - accuracy: 0.4308 - val_loss: 1.3836 - val_accuracy: 0.4390\n",
            "Epoch 45/50\n",
            "28/28 [==============================] - 1s 35ms/step - loss: 1.3828 - accuracy: 0.4276 - val_loss: 1.3836 - val_accuracy: 0.4353\n",
            "Epoch 46/50\n",
            "28/28 [==============================] - 1s 35ms/step - loss: 1.3822 - accuracy: 0.4314 - val_loss: 1.3807 - val_accuracy: 0.4339\n",
            "Epoch 47/50\n",
            "28/28 [==============================] - 1s 35ms/step - loss: 1.3808 - accuracy: 0.4301 - val_loss: 1.3821 - val_accuracy: 0.4406\n",
            "Epoch 48/50\n",
            "28/28 [==============================] - 1s 35ms/step - loss: 1.3788 - accuracy: 0.4295 - val_loss: 1.3803 - val_accuracy: 0.4335\n",
            "Epoch 49/50\n",
            "28/28 [==============================] - 1s 35ms/step - loss: 1.3781 - accuracy: 0.4300 - val_loss: 1.3775 - val_accuracy: 0.4375\n",
            "Epoch 50/50\n",
            "28/28 [==============================] - 1s 35ms/step - loss: 1.3777 - accuracy: 0.4277 - val_loss: 1.3748 - val_accuracy: 0.4382\n"
          ],
          "name": "stdout"
        }
      ]
    },
    {
      "cell_type": "code",
      "metadata": {
        "id": "FvO9ZeJpv-Bx"
      },
      "source": [
        "plot=pd.DataFrame({'loss':history.history['loss'],'val_loss':history.history['val_loss']}).plot()\r\n",
        "fig=plot.get_figure()\r\n",
        "fig.savefig(\"train_loss_graph.pdf\")"
      ],
      "execution_count": null,
      "outputs": []
    },
    {
      "cell_type": "code",
      "metadata": {
        "id": "DkkfgxT9YZDc"
      },
      "source": [
        "plot=pd.DataFrame({'val_accuracy':history.history['val_accuracy'],'accuracy':history.history['accuracy']}).plot()\r\n",
        "fig=plot.get_figure()\r\n",
        "fig.savefig(\"train_loss_graph.pdf\")"
      ],
      "execution_count": null,
      "outputs": []
    },
    {
      "cell_type": "markdown",
      "metadata": {
        "id": "7cOuJSNY6cET"
      },
      "source": [
        "# **DeepAverage model**"
      ]
    },
    {
      "cell_type": "code",
      "metadata": {
        "id": "gRMuJk966n5i"
      },
      "source": [
        "#Model 1 - loss: 1.5285 - accuracy: 0.2781 - val_loss: 1.5214 - val_accuracy: 0.2855\r\n",
        "\r\n",
        "input_= tf.keras.layers.Input((48,))\r\n",
        "emb_lay = tf.keras.layers.Embedding(input_dim=num_vocab, output_dim=300,trainable=False,weights=[embedding_matrix],mask_zero=True)(input_)\r\n",
        "avg = tf.keras.layers.GlobalAveragePooling1D()(emb_lay)\r\n",
        "den_i= tf.keras.layers.Dense(16,activation=\"relu\",kernel_regularizer=tf.keras.regularizers.L1(0.005))(avg)\r\n",
        "res = tf.keras.layers.Dense(5,activation=\"softmax\",kernel_regularizer=tf.keras.regularizers.L1(0.005))(den_i)"
      ],
      "execution_count": null,
      "outputs": []
    },
    {
      "cell_type": "code",
      "metadata": {
        "id": "VzJrL20UZUka"
      },
      "source": [
        "#Model 2 - loss: 1.5260 - accuracy: 0.3166 - val_loss: 1.5195 - val_accuracy: 0.3074\r\n",
        "\r\n",
        "input_= tf.keras.layers.Input((48,))\r\n",
        "emb_lay = tf.keras.layers.Embedding(input_dim=num_vocab, output_dim=300,trainable=False,weights=[embedding_matrix],mask_zero=True)(input_)\r\n",
        "avg = tf.keras.layers.GlobalAveragePooling1D()(emb_lay)\r\n",
        "den_i= tf.keras.layers.Dense(32,activation=\"relu\",kernel_regularizer=tf.keras.regularizers.L1(0.001))(avg)\r\n",
        "res = tf.keras.layers.Dense(5,activation=\"softmax\",kernel_regularizer=tf.keras.regularizers.L1(0.001))(den_i)"
      ],
      "execution_count": null,
      "outputs": []
    },
    {
      "cell_type": "code",
      "metadata": {
        "id": "s6g52AFFZ1sG"
      },
      "source": [
        "#Model 3 loss: 1.5374 - accuracy: 0.2749 - val_loss: 1.5300 - val_accuracy: 0.2861\r\n",
        "\r\n",
        "input_= tf.keras.layers.Input((48,))\r\n",
        "emb_lay = tf.keras.layers.Embedding(input_dim=num_vocab, output_dim=300,trainable=False,weights=[embedding_matrix],mask_zero=True)(input_)\r\n",
        "avg = tf.keras.layers.GlobalAveragePooling1D()(emb_lay)\r\n",
        "den_i= tf.keras.layers.Dense(64,activation=\"relu\",kernel_regularizer=tf.keras.regularizers.L1(0.005))(avg)\r\n",
        "res = tf.keras.layers.Dense(5,activation=\"softmax\",kernel_regularizer=tf.keras.regularizers.L1(0.005))(den_i)"
      ],
      "execution_count": null,
      "outputs": []
    },
    {
      "cell_type": "code",
      "metadata": {
        "id": "k65IYMUxD6G3"
      },
      "source": [
        "#Model 4 - loss: 1.5467 - accuracy: 0.2732 - val_loss: 1.5383 - val_accuracy: 0.2861\r\n",
        "\r\n",
        "input_= tf.keras.layers.Input((48,))\r\n",
        "emb_lay = tf.keras.layers.Embedding(input_dim=num_vocab, output_dim=300,trainable=False,weights=[embedding_matrix],mask_zero=True)(input_)\r\n",
        "avg = tf.keras.layers.GlobalAveragePooling1D()(emb_lay)\r\n",
        "den_i= tf.keras.layers.Dense(128,activation=\"relu\",kernel_regularizer=tf.keras.regularizers.L1(0.005))(avg)\r\n",
        "res = tf.keras.layers.Dense(5,activation=\"softmax\",kernel_regularizer=tf.keras.regularizers.L1(0.005))(den_i)"
      ],
      "execution_count": null,
      "outputs": []
    },
    {
      "cell_type": "code",
      "metadata": {
        "id": "rFA2G9EGbBQ2"
      },
      "source": [
        "model1=tf.keras.Model(inputs=input_ ,outputs=res)"
      ],
      "execution_count": null,
      "outputs": []
    },
    {
      "cell_type": "code",
      "metadata": {
        "id": "v8bfSfYPZyux"
      },
      "source": [
        "model1.compile(optimizer=tf.keras.optimizers.Adam(0.001),loss=tf.keras.losses.CategoricalCrossentropy(),metrics=['accuracy'])"
      ],
      "execution_count": null,
      "outputs": []
    },
    {
      "cell_type": "code",
      "metadata": {
        "colab": {
          "base_uri": "https://localhost:8080/"
        },
        "id": "kIrbEZl_Rkee",
        "outputId": "6aed02fa-768a-4532-ee5f-434544b48379"
      },
      "source": [
        "model1.summary()"
      ],
      "execution_count": null,
      "outputs": [
        {
          "output_type": "stream",
          "text": [
            "Model: \"model_5\"\n",
            "_________________________________________________________________\n",
            "Layer (type)                 Output Shape              Param #   \n",
            "=================================================================\n",
            "input_6 (InputLayer)         [(None, 48)]              0         \n",
            "_________________________________________________________________\n",
            "embedding_6 (Embedding)      (None, 48, 300)           7224000   \n",
            "_________________________________________________________________\n",
            "global_average_pooling1d_4 ( (None, 300)               0         \n",
            "_________________________________________________________________\n",
            "dense_12 (Dense)             (None, 128)               38528     \n",
            "_________________________________________________________________\n",
            "dense_13 (Dense)             (None, 5)                 645       \n",
            "=================================================================\n",
            "Total params: 7,263,173\n",
            "Trainable params: 39,173\n",
            "Non-trainable params: 7,224,000\n",
            "_________________________________________________________________\n"
          ],
          "name": "stdout"
        }
      ]
    },
    {
      "cell_type": "code",
      "metadata": {
        "colab": {
          "base_uri": "https://localhost:8080/"
        },
        "id": "4xY2GrVKZ6hJ",
        "outputId": "10f6a4e9-9d0e-4c83-c3a7-35af1d06b025"
      },
      "source": [
        "model1.fit(x=train_x,y=train_y,batch_size=1024,epochs=50,validation_split=0.2)"
      ],
      "execution_count": null,
      "outputs": [
        {
          "output_type": "stream",
          "text": [
            "Epoch 1/50\n",
            "28/28 [==============================] - 1s 29ms/step - loss: 12.0447 - accuracy: 0.2394 - val_loss: 8.5031 - val_accuracy: 0.2939\n",
            "Epoch 2/50\n",
            "28/28 [==============================] - 1s 23ms/step - loss: 7.5612 - accuracy: 0.2990 - val_loss: 5.0130 - val_accuracy: 0.2935\n",
            "Epoch 3/50\n",
            "28/28 [==============================] - 1s 24ms/step - loss: 4.3774 - accuracy: 0.2925 - val_loss: 2.7746 - val_accuracy: 0.2624\n",
            "Epoch 4/50\n",
            "28/28 [==============================] - 1s 23ms/step - loss: 2.4524 - accuracy: 0.2819 - val_loss: 1.7963 - val_accuracy: 0.2861\n",
            "Epoch 5/50\n",
            "28/28 [==============================] - 1s 24ms/step - loss: 1.7567 - accuracy: 0.2756 - val_loss: 1.6596 - val_accuracy: 0.2861\n",
            "Epoch 6/50\n",
            "28/28 [==============================] - 1s 24ms/step - loss: 1.6535 - accuracy: 0.2749 - val_loss: 1.6148 - val_accuracy: 0.2861\n",
            "Epoch 7/50\n",
            "28/28 [==============================] - 1s 23ms/step - loss: 1.6135 - accuracy: 0.2747 - val_loss: 1.5923 - val_accuracy: 0.2861\n",
            "Epoch 8/50\n",
            "28/28 [==============================] - 1s 23ms/step - loss: 1.5967 - accuracy: 0.2742 - val_loss: 1.5790 - val_accuracy: 0.2861\n",
            "Epoch 9/50\n",
            "28/28 [==============================] - 1s 24ms/step - loss: 1.5836 - accuracy: 0.2745 - val_loss: 1.5707 - val_accuracy: 0.2861\n",
            "Epoch 10/50\n",
            "28/28 [==============================] - 1s 23ms/step - loss: 1.5738 - accuracy: 0.2768 - val_loss: 1.5645 - val_accuracy: 0.2861\n",
            "Epoch 11/50\n",
            "28/28 [==============================] - 1s 24ms/step - loss: 1.5695 - accuracy: 0.2786 - val_loss: 1.5604 - val_accuracy: 0.2861\n",
            "Epoch 12/50\n",
            "28/28 [==============================] - 1s 24ms/step - loss: 1.5661 - accuracy: 0.2802 - val_loss: 1.5572 - val_accuracy: 0.2861\n",
            "Epoch 13/50\n",
            "28/28 [==============================] - 1s 24ms/step - loss: 1.5639 - accuracy: 0.2774 - val_loss: 1.5551 - val_accuracy: 0.2861\n",
            "Epoch 14/50\n",
            "28/28 [==============================] - 1s 24ms/step - loss: 1.5611 - accuracy: 0.2833 - val_loss: 1.5532 - val_accuracy: 0.2861\n",
            "Epoch 15/50\n",
            "28/28 [==============================] - 1s 24ms/step - loss: 1.5577 - accuracy: 0.2733 - val_loss: 1.5516 - val_accuracy: 0.2861\n",
            "Epoch 16/50\n",
            "28/28 [==============================] - 1s 24ms/step - loss: 1.5592 - accuracy: 0.2806 - val_loss: 1.5505 - val_accuracy: 0.2861\n",
            "Epoch 17/50\n",
            "28/28 [==============================] - 1s 24ms/step - loss: 1.5569 - accuracy: 0.2757 - val_loss: 1.5495 - val_accuracy: 0.2861\n",
            "Epoch 18/50\n",
            "28/28 [==============================] - 1s 29ms/step - loss: 1.5558 - accuracy: 0.2775 - val_loss: 1.5486 - val_accuracy: 0.2861\n",
            "Epoch 19/50\n",
            "28/28 [==============================] - 1s 24ms/step - loss: 1.5562 - accuracy: 0.2744 - val_loss: 1.5478 - val_accuracy: 0.2861\n",
            "Epoch 20/50\n",
            "28/28 [==============================] - 1s 24ms/step - loss: 1.5533 - accuracy: 0.2749 - val_loss: 1.5468 - val_accuracy: 0.2861\n",
            "Epoch 21/50\n",
            "28/28 [==============================] - 1s 24ms/step - loss: 1.5542 - accuracy: 0.2762 - val_loss: 1.5461 - val_accuracy: 0.2861\n",
            "Epoch 22/50\n",
            "28/28 [==============================] - 1s 24ms/step - loss: 1.5486 - accuracy: 0.2797 - val_loss: 1.5454 - val_accuracy: 0.2861\n",
            "Epoch 23/50\n",
            "28/28 [==============================] - 1s 24ms/step - loss: 1.5523 - accuracy: 0.2790 - val_loss: 1.5449 - val_accuracy: 0.2861\n",
            "Epoch 24/50\n",
            "28/28 [==============================] - 1s 24ms/step - loss: 1.5485 - accuracy: 0.2817 - val_loss: 1.5444 - val_accuracy: 0.2861\n",
            "Epoch 25/50\n",
            "28/28 [==============================] - 1s 23ms/step - loss: 1.5516 - accuracy: 0.2781 - val_loss: 1.5440 - val_accuracy: 0.2861\n",
            "Epoch 26/50\n",
            "28/28 [==============================] - 1s 24ms/step - loss: 1.5456 - accuracy: 0.2839 - val_loss: 1.5433 - val_accuracy: 0.2861\n",
            "Epoch 27/50\n",
            "28/28 [==============================] - 1s 24ms/step - loss: 1.5501 - accuracy: 0.2772 - val_loss: 1.5428 - val_accuracy: 0.2861\n",
            "Epoch 28/50\n",
            "28/28 [==============================] - 1s 24ms/step - loss: 1.5490 - accuracy: 0.2770 - val_loss: 1.5421 - val_accuracy: 0.2861\n",
            "Epoch 29/50\n",
            "28/28 [==============================] - 1s 24ms/step - loss: 1.5476 - accuracy: 0.2791 - val_loss: 1.5416 - val_accuracy: 0.2861\n",
            "Epoch 30/50\n",
            "28/28 [==============================] - 1s 24ms/step - loss: 1.5502 - accuracy: 0.2760 - val_loss: 1.5412 - val_accuracy: 0.2861\n",
            "Epoch 31/50\n",
            "28/28 [==============================] - 1s 23ms/step - loss: 1.5482 - accuracy: 0.2780 - val_loss: 1.5409 - val_accuracy: 0.2861\n",
            "Epoch 32/50\n",
            "28/28 [==============================] - 1s 24ms/step - loss: 1.5454 - accuracy: 0.2749 - val_loss: 1.5407 - val_accuracy: 0.2861\n",
            "Epoch 33/50\n",
            "28/28 [==============================] - 1s 23ms/step - loss: 1.5476 - accuracy: 0.2749 - val_loss: 1.5405 - val_accuracy: 0.2861\n",
            "Epoch 34/50\n",
            "28/28 [==============================] - 1s 24ms/step - loss: 1.5429 - accuracy: 0.2794 - val_loss: 1.5403 - val_accuracy: 0.2861\n",
            "Epoch 35/50\n",
            "28/28 [==============================] - 1s 24ms/step - loss: 1.5466 - accuracy: 0.2754 - val_loss: 1.5401 - val_accuracy: 0.2861\n",
            "Epoch 36/50\n",
            "28/28 [==============================] - 1s 24ms/step - loss: 1.5482 - accuracy: 0.2778 - val_loss: 1.5400 - val_accuracy: 0.2861\n",
            "Epoch 37/50\n",
            "28/28 [==============================] - 1s 23ms/step - loss: 1.5451 - accuracy: 0.2747 - val_loss: 1.5400 - val_accuracy: 0.2861\n",
            "Epoch 38/50\n",
            "28/28 [==============================] - 1s 24ms/step - loss: 1.5479 - accuracy: 0.2803 - val_loss: 1.5396 - val_accuracy: 0.2861\n",
            "Epoch 39/50\n",
            "28/28 [==============================] - 1s 24ms/step - loss: 1.5471 - accuracy: 0.2803 - val_loss: 1.5396 - val_accuracy: 0.2861\n",
            "Epoch 40/50\n",
            "28/28 [==============================] - 1s 24ms/step - loss: 1.5462 - accuracy: 0.2764 - val_loss: 1.5397 - val_accuracy: 0.2861\n",
            "Epoch 41/50\n",
            "28/28 [==============================] - 1s 24ms/step - loss: 1.5480 - accuracy: 0.2789 - val_loss: 1.5394 - val_accuracy: 0.2861\n",
            "Epoch 42/50\n",
            "28/28 [==============================] - 1s 24ms/step - loss: 1.5457 - accuracy: 0.2786 - val_loss: 1.5393 - val_accuracy: 0.2861\n",
            "Epoch 43/50\n",
            "28/28 [==============================] - 1s 24ms/step - loss: 1.5450 - accuracy: 0.2767 - val_loss: 1.5394 - val_accuracy: 0.2861\n",
            "Epoch 44/50\n",
            "28/28 [==============================] - 1s 23ms/step - loss: 1.5461 - accuracy: 0.2725 - val_loss: 1.5390 - val_accuracy: 0.2861\n",
            "Epoch 45/50\n",
            "28/28 [==============================] - 1s 24ms/step - loss: 1.5427 - accuracy: 0.2790 - val_loss: 1.5388 - val_accuracy: 0.2861\n",
            "Epoch 46/50\n",
            "28/28 [==============================] - 1s 24ms/step - loss: 1.5465 - accuracy: 0.2759 - val_loss: 1.5389 - val_accuracy: 0.2861\n",
            "Epoch 47/50\n",
            "28/28 [==============================] - 1s 24ms/step - loss: 1.5469 - accuracy: 0.2770 - val_loss: 1.5386 - val_accuracy: 0.2861\n",
            "Epoch 48/50\n",
            "28/28 [==============================] - 1s 24ms/step - loss: 1.5444 - accuracy: 0.2736 - val_loss: 1.5385 - val_accuracy: 0.2861\n",
            "Epoch 49/50\n",
            "28/28 [==============================] - 1s 24ms/step - loss: 1.5435 - accuracy: 0.2798 - val_loss: 1.5384 - val_accuracy: 0.2861\n",
            "Epoch 50/50\n",
            "28/28 [==============================] - 1s 24ms/step - loss: 1.5467 - accuracy: 0.2732 - val_loss: 1.5383 - val_accuracy: 0.2861\n"
          ],
          "name": "stdout"
        },
        {
          "output_type": "execute_result",
          "data": {
            "text/plain": [
              "<tensorflow.python.keras.callbacks.History at 0x7f7c4d56b668>"
            ]
          },
          "metadata": {
            "tags": []
          },
          "execution_count": 54
        }
      ]
    },
    {
      "cell_type": "code",
      "metadata": {
        "id": "dGCNj51EcV5b",
        "colab": {
          "base_uri": "https://localhost:8080/",
          "height": 267
        },
        "outputId": "92c6b543-b9f8-4bb7-bb89-142c52163efa"
      },
      "source": [
        "plot=pd.DataFrame({'loss':history.history['loss'],'val_loss':history.history['val_loss']}).plot()\r\n",
        "fig=plot.get_figure()\r\n",
        "fig.savefig(\"train_loss_graph.pdf\")"
      ],
      "execution_count": null,
      "outputs": [
        {
          "output_type": "display_data",
          "data": {
            "image/png": "[encoded data removed]",
            "text/plain": [
              "<Figure size 432x288 with 1 Axes>"
            ]
          },
          "metadata": {
            "tags": [],
            "needs_background": "light"
          }
        }
      ]
    },
    {
      "cell_type": "code",
      "metadata": {
        "id": "mszKdwhvcW71",
        "colab": {
          "base_uri": "https://localhost:8080/",
          "height": 265
        },
        "outputId": "a64468a3-9733-405a-b098-d3b6ff875813"
      },
      "source": [
        "plot=pd.DataFrame({'val_accuracy':history.history['val_accuracy'],'accuracy':history.history['accuracy']}).plot()\r\n",
        "fig=plot.get_figure()\r\n",
        "fig.savefig(\"train_loss_graph.pdf\")"
      ],
      "execution_count": null,
      "outputs": [
        {
          "output_type": "display_data",
          "data": {
            "image/png": "[encoded data removed]",
            "text/plain": [
              "<Figure size 432x288 with 1 Axes>"
            ]
          },
          "metadata": {
            "tags": [],
            "needs_background": "light"
          }
        }
      ]
    },
    {
      "cell_type": "code",
      "metadata": {
        "colab": {
          "base_uri": "https://localhost:8080/",
          "height": 422
        },
        "id": "sxNnclorEM57",
        "outputId": "2ad86afe-a3f0-4382-f21f-f475b78d1f73"
      },
      "source": [
        "tf.keras.utils.plot_model(model, \"model.png\", show_shapes=True)"
      ],
      "execution_count": null,
      "outputs": [
        {
          "output_type": "execute_result",
          "data": {
            "image/png": "[encoded data removed]",
            "text/plain": [
              "<IPython.core.display.Image object>"
            ]
          },
          "metadata": {
            "tags": []
          },
          "execution_count": 24
        }
      ]
    },
    {
      "cell_type": "code",
      "metadata": {
        "id": "aFJKiufcuVMK"
      },
      "source": [
        ""
      ],
      "execution_count": null,
      "outputs": []
    }
  ]
}